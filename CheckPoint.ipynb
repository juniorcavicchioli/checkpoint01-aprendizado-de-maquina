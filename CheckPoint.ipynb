{
  "cells": [
    {
      "cell_type": "markdown",
      "metadata": {
        "id": "J2ibBe2EkRY7"
      },
      "source": [
        "## Aprendizagem de máquina\n",
        "\n",
        "### Objetivos\n",
        "\n",
        "  - Avaliar os conceitos de aprendizado de maquina aprendidos no curso\n"
      ]
    },
    {
      "cell_type": "markdown",
      "metadata": {
        "id": "fe9YT518kRY-"
      },
      "source": [
        "# Desafio\n",
        "\n",
        "Você foi contratado por uma empresa inovadora do ramo imobiliario como `QuintoAndar, Loft, Terraz, grupo Zap (ZAP, Viva Real, DataZAP, FipeZAP, SuaHouse, Geoimóvel, Sub100 e Conecta Imobi) ou Imobi Conference`. O seu desafio está no apio à tomada de decisão baseada em dados (empresa data driven). \n",
        "\n",
        "Nesse sentido, use a base de dados **aptos.csv** para realizar a descoberta do conhecimento e responder a pergunta: \n",
        "\n",
        "**`Quanto vale um apartamento de 72m2 com 2 quartos, 2 vagas, reformado no Centro?`**\n"
      ]
    },
    {
      "cell_type": "markdown",
      "metadata": {
        "id": "6SkRhUozkRY_"
      },
      "source": [
        "### Orientações\n",
        "\n",
        "Siga as instruções, completando e construindo os algoritmos necessários.\n",
        "\n",
        "Nas celulas` Seu Código aqui...` significa que é necessário realizar a implementação de algum código. Utilize quantos blocos(células) julgar necessário para criar o código.\n",
        "\n",
        "Nas celulas `Responda` significa que é nessário uma resposta clara e objetiva (pode ser por texto, código, gráfico, imagem...) para a pergunta."
      ]
    },
    {
      "cell_type": "markdown",
      "metadata": {
        "id": "p99_zmQSkRZA"
      },
      "source": [
        "## Rubrica para avaliação\n",
        "    \n",
        "Os critérios de avaliação do projeto segue conforme a rubrica.\n",
        "\n",
        "- R1: Exploração de Dados (Até 2 pontos)\n",
        "- R2: Análise Descritiva de Dados (Até 2 pontos)\n",
        "- R3: Desenvolvimento do Modelo (Até 2 pontos)\n",
        "- R4: Treinamento e Teste do Modelo (Até 2 pontos)\n",
        "- R5: Conclusões Finais (Até 2 pontos)\n",
        "\n",
        "**Nota_final = R1 + R2 + R3 + R4 + R5**"
      ]
    },
    {
      "cell_type": "markdown",
      "metadata": {
        "id": "CVjxDWlHkRZA"
      },
      "source": [
        "# 1. Exploração de Dados\n",
        "\n",
        "Carregue o dataset e faça uma inspeção nas 15 primeiras linhas para identificação básica dos atributos.\n"
      ]
    },
    {
      "cell_type": "code",
      "execution_count": 645,
      "metadata": {
        "id": "TBWb6ZFjkRZA"
      },
      "outputs": [],
      "source": [
        "import seaborn as sns\n",
        "import matplotlib.pyplot as plt\n",
        "import pandas as pd\n",
        "import numpy as np\n",
        "\n",
        "%matplotlib inline"
      ]
    },
    {
      "cell_type": "code",
      "execution_count": 646,
      "metadata": {
        "colab": {
          "base_uri": "https://localhost:8080/",
          "height": 519
        },
        "id": "ATAbI-jQkRZB",
        "outputId": "5f22532c-8271-4e86-fbcb-dc9c653a1cda"
      },
      "outputs": [
        {
          "output_type": "execute_result",
          "data": {
            "text/plain": [
              "    metros  valor  quartos  vagas  reformado          bairro\n",
              "0      107  560.0        3      2        0.0  Vila Lusitania\n",
              "1      107  555.0        3      2        1.0  Vila Lusitania\n",
              "2       49  196.0        2      1        0.0    Ferrazopolis\n",
              "3      104  515.0        3      2        1.0          Centro\n",
              "4       92  560.0        3      2        1.0  Vila Lusitania\n",
              "5       51  249.0        2      1        0.0          Taboao\n",
              "6      140  635.0        4      3        1.0          Centro\n",
              "7       50  210.0        2      1        1.0        Demarchi\n",
              "8       93  450.0        3      2        0.0     Baeta Neves\n",
              "9      107  425.0        3      2        1.0     Rudge Ramos\n",
              "10     100  422.0        3      2        1.0     Baeta Neves\n",
              "11      64  250.0        2      1        1.0       Pauliceia\n",
              "12      65  350.0        2      2        1.0          Centro\n",
              "13      71  303.0        3      1        0.0          Centro\n",
              "14      64  294.0        3      1        0.0        Planalto"
            ],
            "text/html": [
              "\n",
              "  <div id=\"df-68882f23-367f-4e85-b879-da76487af8e6\">\n",
              "    <div class=\"colab-df-container\">\n",
              "      <div>\n",
              "<style scoped>\n",
              "    .dataframe tbody tr th:only-of-type {\n",
              "        vertical-align: middle;\n",
              "    }\n",
              "\n",
              "    .dataframe tbody tr th {\n",
              "        vertical-align: top;\n",
              "    }\n",
              "\n",
              "    .dataframe thead th {\n",
              "        text-align: right;\n",
              "    }\n",
              "</style>\n",
              "<table border=\"1\" class=\"dataframe\">\n",
              "  <thead>\n",
              "    <tr style=\"text-align: right;\">\n",
              "      <th></th>\n",
              "      <th>metros</th>\n",
              "      <th>valor</th>\n",
              "      <th>quartos</th>\n",
              "      <th>vagas</th>\n",
              "      <th>reformado</th>\n",
              "      <th>bairro</th>\n",
              "    </tr>\n",
              "  </thead>\n",
              "  <tbody>\n",
              "    <tr>\n",
              "      <th>0</th>\n",
              "      <td>107</td>\n",
              "      <td>560.0</td>\n",
              "      <td>3</td>\n",
              "      <td>2</td>\n",
              "      <td>0.0</td>\n",
              "      <td>Vila Lusitania</td>\n",
              "    </tr>\n",
              "    <tr>\n",
              "      <th>1</th>\n",
              "      <td>107</td>\n",
              "      <td>555.0</td>\n",
              "      <td>3</td>\n",
              "      <td>2</td>\n",
              "      <td>1.0</td>\n",
              "      <td>Vila Lusitania</td>\n",
              "    </tr>\n",
              "    <tr>\n",
              "      <th>2</th>\n",
              "      <td>49</td>\n",
              "      <td>196.0</td>\n",
              "      <td>2</td>\n",
              "      <td>1</td>\n",
              "      <td>0.0</td>\n",
              "      <td>Ferrazopolis</td>\n",
              "    </tr>\n",
              "    <tr>\n",
              "      <th>3</th>\n",
              "      <td>104</td>\n",
              "      <td>515.0</td>\n",
              "      <td>3</td>\n",
              "      <td>2</td>\n",
              "      <td>1.0</td>\n",
              "      <td>Centro</td>\n",
              "    </tr>\n",
              "    <tr>\n",
              "      <th>4</th>\n",
              "      <td>92</td>\n",
              "      <td>560.0</td>\n",
              "      <td>3</td>\n",
              "      <td>2</td>\n",
              "      <td>1.0</td>\n",
              "      <td>Vila Lusitania</td>\n",
              "    </tr>\n",
              "    <tr>\n",
              "      <th>5</th>\n",
              "      <td>51</td>\n",
              "      <td>249.0</td>\n",
              "      <td>2</td>\n",
              "      <td>1</td>\n",
              "      <td>0.0</td>\n",
              "      <td>Taboao</td>\n",
              "    </tr>\n",
              "    <tr>\n",
              "      <th>6</th>\n",
              "      <td>140</td>\n",
              "      <td>635.0</td>\n",
              "      <td>4</td>\n",
              "      <td>3</td>\n",
              "      <td>1.0</td>\n",
              "      <td>Centro</td>\n",
              "    </tr>\n",
              "    <tr>\n",
              "      <th>7</th>\n",
              "      <td>50</td>\n",
              "      <td>210.0</td>\n",
              "      <td>2</td>\n",
              "      <td>1</td>\n",
              "      <td>1.0</td>\n",
              "      <td>Demarchi</td>\n",
              "    </tr>\n",
              "    <tr>\n",
              "      <th>8</th>\n",
              "      <td>93</td>\n",
              "      <td>450.0</td>\n",
              "      <td>3</td>\n",
              "      <td>2</td>\n",
              "      <td>0.0</td>\n",
              "      <td>Baeta Neves</td>\n",
              "    </tr>\n",
              "    <tr>\n",
              "      <th>9</th>\n",
              "      <td>107</td>\n",
              "      <td>425.0</td>\n",
              "      <td>3</td>\n",
              "      <td>2</td>\n",
              "      <td>1.0</td>\n",
              "      <td>Rudge Ramos</td>\n",
              "    </tr>\n",
              "    <tr>\n",
              "      <th>10</th>\n",
              "      <td>100</td>\n",
              "      <td>422.0</td>\n",
              "      <td>3</td>\n",
              "      <td>2</td>\n",
              "      <td>1.0</td>\n",
              "      <td>Baeta Neves</td>\n",
              "    </tr>\n",
              "    <tr>\n",
              "      <th>11</th>\n",
              "      <td>64</td>\n",
              "      <td>250.0</td>\n",
              "      <td>2</td>\n",
              "      <td>1</td>\n",
              "      <td>1.0</td>\n",
              "      <td>Pauliceia</td>\n",
              "    </tr>\n",
              "    <tr>\n",
              "      <th>12</th>\n",
              "      <td>65</td>\n",
              "      <td>350.0</td>\n",
              "      <td>2</td>\n",
              "      <td>2</td>\n",
              "      <td>1.0</td>\n",
              "      <td>Centro</td>\n",
              "    </tr>\n",
              "    <tr>\n",
              "      <th>13</th>\n",
              "      <td>71</td>\n",
              "      <td>303.0</td>\n",
              "      <td>3</td>\n",
              "      <td>1</td>\n",
              "      <td>0.0</td>\n",
              "      <td>Centro</td>\n",
              "    </tr>\n",
              "    <tr>\n",
              "      <th>14</th>\n",
              "      <td>64</td>\n",
              "      <td>294.0</td>\n",
              "      <td>3</td>\n",
              "      <td>1</td>\n",
              "      <td>0.0</td>\n",
              "      <td>Planalto</td>\n",
              "    </tr>\n",
              "  </tbody>\n",
              "</table>\n",
              "</div>\n",
              "      <button class=\"colab-df-convert\" onclick=\"convertToInteractive('df-68882f23-367f-4e85-b879-da76487af8e6')\"\n",
              "              title=\"Convert this dataframe to an interactive table.\"\n",
              "              style=\"display:none;\">\n",
              "        \n",
              "  <svg xmlns=\"http://www.w3.org/2000/svg\" height=\"24px\"viewBox=\"0 0 24 24\"\n",
              "       width=\"24px\">\n",
              "    <path d=\"M0 0h24v24H0V0z\" fill=\"none\"/>\n",
              "    <path d=\"M18.56 5.44l.94 2.06.94-2.06 2.06-.94-2.06-.94-.94-2.06-.94 2.06-2.06.94zm-11 1L8.5 8.5l.94-2.06 2.06-.94-2.06-.94L8.5 2.5l-.94 2.06-2.06.94zm10 10l.94 2.06.94-2.06 2.06-.94-2.06-.94-.94-2.06-.94 2.06-2.06.94z\"/><path d=\"M17.41 7.96l-1.37-1.37c-.4-.4-.92-.59-1.43-.59-.52 0-1.04.2-1.43.59L10.3 9.45l-7.72 7.72c-.78.78-.78 2.05 0 2.83L4 21.41c.39.39.9.59 1.41.59.51 0 1.02-.2 1.41-.59l7.78-7.78 2.81-2.81c.8-.78.8-2.07 0-2.86zM5.41 20L4 18.59l7.72-7.72 1.47 1.35L5.41 20z\"/>\n",
              "  </svg>\n",
              "      </button>\n",
              "      \n",
              "  <style>\n",
              "    .colab-df-container {\n",
              "      display:flex;\n",
              "      flex-wrap:wrap;\n",
              "      gap: 12px;\n",
              "    }\n",
              "\n",
              "    .colab-df-convert {\n",
              "      background-color: #E8F0FE;\n",
              "      border: none;\n",
              "      border-radius: 50%;\n",
              "      cursor: pointer;\n",
              "      display: none;\n",
              "      fill: #1967D2;\n",
              "      height: 32px;\n",
              "      padding: 0 0 0 0;\n",
              "      width: 32px;\n",
              "    }\n",
              "\n",
              "    .colab-df-convert:hover {\n",
              "      background-color: #E2EBFA;\n",
              "      box-shadow: 0px 1px 2px rgba(60, 64, 67, 0.3), 0px 1px 3px 1px rgba(60, 64, 67, 0.15);\n",
              "      fill: #174EA6;\n",
              "    }\n",
              "\n",
              "    [theme=dark] .colab-df-convert {\n",
              "      background-color: #3B4455;\n",
              "      fill: #D2E3FC;\n",
              "    }\n",
              "\n",
              "    [theme=dark] .colab-df-convert:hover {\n",
              "      background-color: #434B5C;\n",
              "      box-shadow: 0px 1px 3px 1px rgba(0, 0, 0, 0.15);\n",
              "      filter: drop-shadow(0px 1px 2px rgba(0, 0, 0, 0.3));\n",
              "      fill: #FFFFFF;\n",
              "    }\n",
              "  </style>\n",
              "\n",
              "      <script>\n",
              "        const buttonEl =\n",
              "          document.querySelector('#df-68882f23-367f-4e85-b879-da76487af8e6 button.colab-df-convert');\n",
              "        buttonEl.style.display =\n",
              "          google.colab.kernel.accessAllowed ? 'block' : 'none';\n",
              "\n",
              "        async function convertToInteractive(key) {\n",
              "          const element = document.querySelector('#df-68882f23-367f-4e85-b879-da76487af8e6');\n",
              "          const dataTable =\n",
              "            await google.colab.kernel.invokeFunction('convertToInteractive',\n",
              "                                                     [key], {});\n",
              "          if (!dataTable) return;\n",
              "\n",
              "          const docLinkHtml = 'Like what you see? Visit the ' +\n",
              "            '<a target=\"_blank\" href=https://colab.research.google.com/notebooks/data_table.ipynb>data table notebook</a>'\n",
              "            + ' to learn more about interactive tables.';\n",
              "          element.innerHTML = '';\n",
              "          dataTable['output_type'] = 'display_data';\n",
              "          await google.colab.output.renderOutput(dataTable, element);\n",
              "          const docLink = document.createElement('div');\n",
              "          docLink.innerHTML = docLinkHtml;\n",
              "          element.appendChild(docLink);\n",
              "        }\n",
              "      </script>\n",
              "    </div>\n",
              "  </div>\n",
              "  "
            ]
          },
          "metadata": {},
          "execution_count": 646
        }
      ],
      "source": [
        "df = pd.read_csv('aptos.csv', encoding='UTF-8', sep=\",\")\n",
        "df.head(15)"
      ]
    },
    {
      "cell_type": "markdown",
      "metadata": {
        "id": "QPyc5VQckRZB"
      },
      "source": [
        "### `Pergunta:` Apresente uma breve descrição do significado de cada atributo:\n",
        "\n",
        "Exemplo:\n",
        "- Idade: Idade em anos da pessoa\n",
        "- Marca: fabricante de carros\n",
        "- Combustivel: tipo de combustível (gasolina, disel...)\n",
        "- Especie: Tipo de flor iris-setosa, virginica... (Variável Alvo)\n",
        "\n",
        "\n",
        "\n",
        "\n"
      ]
    },
    {
      "cell_type": "markdown",
      "metadata": {
        "id": "D0ZuBbWekRZC"
      },
      "source": [
        "**Resposta:**\n",
        "\n",
        "- Metros......... área em metros do apartamento;\n",
        "- Valor............. preço do imóvel dividivo por 100.000;\n",
        "- Quartos........ número de quartos;\n",
        "- Vagas........... número de vagas de garagem;\n",
        "- Reformado... se foi reformado ou não;\n",
        "- Bairro............ bairro em que o imóvel se encontra."
      ]
    },
    {
      "cell_type": "markdown",
      "metadata": {
        "id": "RepL5sQOkRZC"
      },
      "source": [
        "**Pergunta:** Cite 2 cenários que podem fazer sentido na leitura dos dados apresentados.\n",
        "\n",
        "Exemplo: \n",
        "- Eu acho que o preço da gasolina sobe com o preço do petróleo. \n",
        "- Eu acho que na média homens são mais altos que mulheres na mesma faixa etaria.  "
      ]
    },
    {
      "cell_type": "markdown",
      "metadata": {
        "id": "1XeVe8FGkRZC"
      },
      "source": [
        "**Resposta:**\n",
        "\n",
        "1.  Eu acho que o imóvel fica mais caro de acordo com o tamanho.\n",
        "2.  Eu acho que um imóvel com mais garagens fica mais caro."
      ]
    },
    {
      "cell_type": "markdown",
      "metadata": {
        "id": "i93uuMTokRZC"
      },
      "source": [
        "## 2. Análise descritiva de dados\n",
        "\n",
        "Faça uma análise exploratória dos dados. Utilize-se de gráficos e tabelas auxiliares, faça correlações entre os atributos.... Com o objetivo validar as afirmações levantadas acima."
      ]
    },
    {
      "cell_type": "code",
      "execution_count": 647,
      "metadata": {
        "colab": {
          "base_uri": "https://localhost:8080/"
        },
        "id": "gRIppSLlkRZD",
        "outputId": "3d092e4d-e811-414d-e4bc-714cf13c23e7"
      },
      "outputs": [
        {
          "output_type": "stream",
          "name": "stdout",
          "text": [
            "<class 'pandas.core.frame.DataFrame'>\n",
            "RangeIndex: 114 entries, 0 to 113\n",
            "Data columns (total 6 columns):\n",
            " #   Column     Non-Null Count  Dtype  \n",
            "---  ------     --------------  -----  \n",
            " 0   metros     114 non-null    int64  \n",
            " 1   valor      113 non-null    float64\n",
            " 2   quartos    114 non-null    int64  \n",
            " 3   vagas      114 non-null    int64  \n",
            " 4   reformado  113 non-null    float64\n",
            " 5   bairro     114 non-null    object \n",
            "dtypes: float64(2), int64(3), object(1)\n",
            "memory usage: 5.5+ KB\n"
          ]
        }
      ],
      "source": [
        "df.info()"
      ]
    },
    {
      "cell_type": "code",
      "source": [
        "mask = df.isnull().any(axis=1) #  Cria uma máscara booleana que identifica as linhas com valores nulos no DataFrame.\n",
        "empty_rows = df.loc[mask] # Seleciona as linhas do DataFrame df que correspondem aos índices da série booleana mask e as armazena em um novo DataFrame chamado empty_rows.\n",
        "print(empty_rows)"
      ],
      "metadata": {
        "colab": {
          "base_uri": "https://localhost:8080/"
        },
        "id": "8rSgKdzPqmXK",
        "outputId": "ee66ce15-c593-4304-e64a-772164a6c88e"
      },
      "execution_count": 648,
      "outputs": [
        {
          "output_type": "stream",
          "name": "stdout",
          "text": [
            "    metros  valor  quartos  vagas  reformado    bairro\n",
            "64     120    NaN        3      4        0.0    Centro\n",
            "91      52  276.0        1      1        NaN  Assuncao\n"
          ]
        }
      ]
    },
    {
      "cell_type": "markdown",
      "source": [
        "Há dados faltantes. Um em valor e um em reformado. Vou limpá-los para que não influenciem"
      ],
      "metadata": {
        "id": "S6RlwM-jpEAq"
      }
    },
    {
      "cell_type": "code",
      "source": [
        "df = df.dropna()"
      ],
      "metadata": {
        "id": "VS2Ec289s8dD"
      },
      "execution_count": 649,
      "outputs": []
    },
    {
      "cell_type": "code",
      "source": [
        "df"
      ],
      "metadata": {
        "colab": {
          "base_uri": "https://localhost:8080/",
          "height": 423
        },
        "id": "iNk6OoJrAuxM",
        "outputId": "f67db45d-3e9a-42bb-e72e-149548130e9f"
      },
      "execution_count": 650,
      "outputs": [
        {
          "output_type": "execute_result",
          "data": {
            "text/plain": [
              "     metros  valor  quartos  vagas  reformado          bairro\n",
              "0       107  560.0        3      2        0.0  Vila Lusitania\n",
              "1       107  555.0        3      2        1.0  Vila Lusitania\n",
              "2        49  196.0        2      1        0.0    Ferrazopolis\n",
              "3       104  515.0        3      2        1.0          Centro\n",
              "4        92  560.0        3      2        1.0  Vila Lusitania\n",
              "..      ...    ...      ...    ...        ...             ...\n",
              "109      65  340.0        2      2        1.0          Centro\n",
              "110      56  247.0        2      1        0.0        Planalto\n",
              "111     126  736.0        3      3        0.0           Iraja\n",
              "112      96  560.0        3      1        0.0          Centro\n",
              "113     103  667.0        3      3        0.0     Baeta Neves\n",
              "\n",
              "[112 rows x 6 columns]"
            ],
            "text/html": [
              "\n",
              "  <div id=\"df-b811184d-b1f3-4e4b-9791-7fdd57d550e8\">\n",
              "    <div class=\"colab-df-container\">\n",
              "      <div>\n",
              "<style scoped>\n",
              "    .dataframe tbody tr th:only-of-type {\n",
              "        vertical-align: middle;\n",
              "    }\n",
              "\n",
              "    .dataframe tbody tr th {\n",
              "        vertical-align: top;\n",
              "    }\n",
              "\n",
              "    .dataframe thead th {\n",
              "        text-align: right;\n",
              "    }\n",
              "</style>\n",
              "<table border=\"1\" class=\"dataframe\">\n",
              "  <thead>\n",
              "    <tr style=\"text-align: right;\">\n",
              "      <th></th>\n",
              "      <th>metros</th>\n",
              "      <th>valor</th>\n",
              "      <th>quartos</th>\n",
              "      <th>vagas</th>\n",
              "      <th>reformado</th>\n",
              "      <th>bairro</th>\n",
              "    </tr>\n",
              "  </thead>\n",
              "  <tbody>\n",
              "    <tr>\n",
              "      <th>0</th>\n",
              "      <td>107</td>\n",
              "      <td>560.0</td>\n",
              "      <td>3</td>\n",
              "      <td>2</td>\n",
              "      <td>0.0</td>\n",
              "      <td>Vila Lusitania</td>\n",
              "    </tr>\n",
              "    <tr>\n",
              "      <th>1</th>\n",
              "      <td>107</td>\n",
              "      <td>555.0</td>\n",
              "      <td>3</td>\n",
              "      <td>2</td>\n",
              "      <td>1.0</td>\n",
              "      <td>Vila Lusitania</td>\n",
              "    </tr>\n",
              "    <tr>\n",
              "      <th>2</th>\n",
              "      <td>49</td>\n",
              "      <td>196.0</td>\n",
              "      <td>2</td>\n",
              "      <td>1</td>\n",
              "      <td>0.0</td>\n",
              "      <td>Ferrazopolis</td>\n",
              "    </tr>\n",
              "    <tr>\n",
              "      <th>3</th>\n",
              "      <td>104</td>\n",
              "      <td>515.0</td>\n",
              "      <td>3</td>\n",
              "      <td>2</td>\n",
              "      <td>1.0</td>\n",
              "      <td>Centro</td>\n",
              "    </tr>\n",
              "    <tr>\n",
              "      <th>4</th>\n",
              "      <td>92</td>\n",
              "      <td>560.0</td>\n",
              "      <td>3</td>\n",
              "      <td>2</td>\n",
              "      <td>1.0</td>\n",
              "      <td>Vila Lusitania</td>\n",
              "    </tr>\n",
              "    <tr>\n",
              "      <th>...</th>\n",
              "      <td>...</td>\n",
              "      <td>...</td>\n",
              "      <td>...</td>\n",
              "      <td>...</td>\n",
              "      <td>...</td>\n",
              "      <td>...</td>\n",
              "    </tr>\n",
              "    <tr>\n",
              "      <th>109</th>\n",
              "      <td>65</td>\n",
              "      <td>340.0</td>\n",
              "      <td>2</td>\n",
              "      <td>2</td>\n",
              "      <td>1.0</td>\n",
              "      <td>Centro</td>\n",
              "    </tr>\n",
              "    <tr>\n",
              "      <th>110</th>\n",
              "      <td>56</td>\n",
              "      <td>247.0</td>\n",
              "      <td>2</td>\n",
              "      <td>1</td>\n",
              "      <td>0.0</td>\n",
              "      <td>Planalto</td>\n",
              "    </tr>\n",
              "    <tr>\n",
              "      <th>111</th>\n",
              "      <td>126</td>\n",
              "      <td>736.0</td>\n",
              "      <td>3</td>\n",
              "      <td>3</td>\n",
              "      <td>0.0</td>\n",
              "      <td>Iraja</td>\n",
              "    </tr>\n",
              "    <tr>\n",
              "      <th>112</th>\n",
              "      <td>96</td>\n",
              "      <td>560.0</td>\n",
              "      <td>3</td>\n",
              "      <td>1</td>\n",
              "      <td>0.0</td>\n",
              "      <td>Centro</td>\n",
              "    </tr>\n",
              "    <tr>\n",
              "      <th>113</th>\n",
              "      <td>103</td>\n",
              "      <td>667.0</td>\n",
              "      <td>3</td>\n",
              "      <td>3</td>\n",
              "      <td>0.0</td>\n",
              "      <td>Baeta Neves</td>\n",
              "    </tr>\n",
              "  </tbody>\n",
              "</table>\n",
              "<p>112 rows × 6 columns</p>\n",
              "</div>\n",
              "      <button class=\"colab-df-convert\" onclick=\"convertToInteractive('df-b811184d-b1f3-4e4b-9791-7fdd57d550e8')\"\n",
              "              title=\"Convert this dataframe to an interactive table.\"\n",
              "              style=\"display:none;\">\n",
              "        \n",
              "  <svg xmlns=\"http://www.w3.org/2000/svg\" height=\"24px\"viewBox=\"0 0 24 24\"\n",
              "       width=\"24px\">\n",
              "    <path d=\"M0 0h24v24H0V0z\" fill=\"none\"/>\n",
              "    <path d=\"M18.56 5.44l.94 2.06.94-2.06 2.06-.94-2.06-.94-.94-2.06-.94 2.06-2.06.94zm-11 1L8.5 8.5l.94-2.06 2.06-.94-2.06-.94L8.5 2.5l-.94 2.06-2.06.94zm10 10l.94 2.06.94-2.06 2.06-.94-2.06-.94-.94-2.06-.94 2.06-2.06.94z\"/><path d=\"M17.41 7.96l-1.37-1.37c-.4-.4-.92-.59-1.43-.59-.52 0-1.04.2-1.43.59L10.3 9.45l-7.72 7.72c-.78.78-.78 2.05 0 2.83L4 21.41c.39.39.9.59 1.41.59.51 0 1.02-.2 1.41-.59l7.78-7.78 2.81-2.81c.8-.78.8-2.07 0-2.86zM5.41 20L4 18.59l7.72-7.72 1.47 1.35L5.41 20z\"/>\n",
              "  </svg>\n",
              "      </button>\n",
              "      \n",
              "  <style>\n",
              "    .colab-df-container {\n",
              "      display:flex;\n",
              "      flex-wrap:wrap;\n",
              "      gap: 12px;\n",
              "    }\n",
              "\n",
              "    .colab-df-convert {\n",
              "      background-color: #E8F0FE;\n",
              "      border: none;\n",
              "      border-radius: 50%;\n",
              "      cursor: pointer;\n",
              "      display: none;\n",
              "      fill: #1967D2;\n",
              "      height: 32px;\n",
              "      padding: 0 0 0 0;\n",
              "      width: 32px;\n",
              "    }\n",
              "\n",
              "    .colab-df-convert:hover {\n",
              "      background-color: #E2EBFA;\n",
              "      box-shadow: 0px 1px 2px rgba(60, 64, 67, 0.3), 0px 1px 3px 1px rgba(60, 64, 67, 0.15);\n",
              "      fill: #174EA6;\n",
              "    }\n",
              "\n",
              "    [theme=dark] .colab-df-convert {\n",
              "      background-color: #3B4455;\n",
              "      fill: #D2E3FC;\n",
              "    }\n",
              "\n",
              "    [theme=dark] .colab-df-convert:hover {\n",
              "      background-color: #434B5C;\n",
              "      box-shadow: 0px 1px 3px 1px rgba(0, 0, 0, 0.15);\n",
              "      filter: drop-shadow(0px 1px 2px rgba(0, 0, 0, 0.3));\n",
              "      fill: #FFFFFF;\n",
              "    }\n",
              "  </style>\n",
              "\n",
              "      <script>\n",
              "        const buttonEl =\n",
              "          document.querySelector('#df-b811184d-b1f3-4e4b-9791-7fdd57d550e8 button.colab-df-convert');\n",
              "        buttonEl.style.display =\n",
              "          google.colab.kernel.accessAllowed ? 'block' : 'none';\n",
              "\n",
              "        async function convertToInteractive(key) {\n",
              "          const element = document.querySelector('#df-b811184d-b1f3-4e4b-9791-7fdd57d550e8');\n",
              "          const dataTable =\n",
              "            await google.colab.kernel.invokeFunction('convertToInteractive',\n",
              "                                                     [key], {});\n",
              "          if (!dataTable) return;\n",
              "\n",
              "          const docLinkHtml = 'Like what you see? Visit the ' +\n",
              "            '<a target=\"_blank\" href=https://colab.research.google.com/notebooks/data_table.ipynb>data table notebook</a>'\n",
              "            + ' to learn more about interactive tables.';\n",
              "          element.innerHTML = '';\n",
              "          dataTable['output_type'] = 'display_data';\n",
              "          await google.colab.output.renderOutput(dataTable, element);\n",
              "          const docLink = document.createElement('div');\n",
              "          docLink.innerHTML = docLinkHtml;\n",
              "          element.appendChild(docLink);\n",
              "        }\n",
              "      </script>\n",
              "    </div>\n",
              "  </div>\n",
              "  "
            ]
          },
          "metadata": {},
          "execution_count": 650
        }
      ]
    },
    {
      "cell_type": "markdown",
      "source": [
        "Para verificar se existem outliers, vou usar o boxplot"
      ],
      "metadata": {
        "id": "C6me3iZS-45r"
      }
    },
    {
      "cell_type": "code",
      "source": [
        "fig, ([ax1, ax2, ax3, ax4]) = plt.subplots(1, 4, figsize=(15, 9))\n",
        "\n",
        "ax1.boxplot(df['metros'])\n",
        "ax1.set_title('metros')\n",
        "\n",
        "ax2.boxplot(df['valor'])\n",
        "ax2.set_title('valor')\n",
        "\n",
        "ax3.boxplot(df['quartos'])\n",
        "ax3.set_title('quartos')\n",
        "\n",
        "ax4.boxplot(df['vagas'])\n",
        "ax4.set_title('vagas')\n",
        "\n",
        "# exibir os outliers de metros\n",
        "outliers_metros = ax1.boxplot(df['metros'])['fliers'][0].get_data()[1]\n",
        "outliers_vagas = ax4.boxplot(df['vagas'])['fliers'][0].get_data()[1]\n",
        "print(\"Outliers_metros: \", outliers_metros)\n",
        "print(\"Outliers_vagas: \", outliers_vagas)"
      ],
      "metadata": {
        "colab": {
          "base_uri": "https://localhost:8080/",
          "height": 589
        },
        "id": "ViOVN3oK85ca",
        "outputId": "be4ff088-596e-4a61-9d61-360a8384c0f8"
      },
      "execution_count": 651,
      "outputs": [
        {
          "output_type": "stream",
          "name": "stdout",
          "text": [
            "Outliers_metros:  [199]\n",
            "Outliers_vagas:  [4 4 4]\n"
          ]
        },
        {
          "output_type": "display_data",
          "data": {
            "text/plain": [
              "<Figure size 1080x648 with 4 Axes>"
            ],
            "image/png": "[encoded data removed]"
          },
          "metadata": {
            "needs_background": "light"
          }
        }
      ]
    },
    {
      "cell_type": "code",
      "source": [
        "df['bairro'].value_counts()"
      ],
      "metadata": {
        "colab": {
          "base_uri": "https://localhost:8080/"
        },
        "id": "Kcfua74BCyOG",
        "outputId": "d0bdd3c2-8864-43b7-fe8e-d919c212d120"
      },
      "execution_count": 652,
      "outputs": [
        {
          "output_type": "execute_result",
          "data": {
            "text/plain": [
              "Centro             34\n",
              "Baeta Neves        17\n",
              "Assuncao            9\n",
              "Rudge Ramos         9\n",
              "Vila Lusitania      6\n",
              "Planalto            5\n",
              "Demarchi            5\n",
              "Ferrazopolis        4\n",
              "Taboao              4\n",
              "Santa Teresinha     4\n",
              "Independencia       3\n",
              "Nova Petropolis     3\n",
              "Iraja               3\n",
              "Pauliceia           2\n",
              "Jardim do Mar       2\n",
              "Jordanopolis        1\n",
              "Piraporinha         1\n",
              "Name: bairro, dtype: int64"
            ]
          },
          "metadata": {},
          "execution_count": 652
        }
      ]
    },
    {
      "cell_type": "code",
      "source": [
        "df = df.drop(1, axis=0) # axis=0 indica que está apagando uma linha\n",
        "print(df)"
      ],
      "metadata": {
        "colab": {
          "base_uri": "https://localhost:8080/"
        },
        "id": "dqX3kXABGDjD",
        "outputId": "09505fd1-265e-4d90-cb45-129c36c0a2e2"
      },
      "execution_count": 653,
      "outputs": [
        {
          "output_type": "stream",
          "name": "stdout",
          "text": [
            "     metros  valor  quartos  vagas  reformado          bairro\n",
            "0       107  560.0        3      2        0.0  Vila Lusitania\n",
            "2        49  196.0        2      1        0.0    Ferrazopolis\n",
            "3       104  515.0        3      2        1.0          Centro\n",
            "4        92  560.0        3      2        1.0  Vila Lusitania\n",
            "5        51  249.0        2      1        0.0          Taboao\n",
            "..      ...    ...      ...    ...        ...             ...\n",
            "109      65  340.0        2      2        1.0          Centro\n",
            "110      56  247.0        2      1        0.0        Planalto\n",
            "111     126  736.0        3      3        0.0           Iraja\n",
            "112      96  560.0        3      1        0.0          Centro\n",
            "113     103  667.0        3      3        0.0     Baeta Neves\n",
            "\n",
            "[111 rows x 6 columns]\n"
          ]
        }
      ]
    },
    {
      "cell_type": "code",
      "source": [
        "\n",
        "corr_matx = df[df.columns].corr()\n",
        "fig, ax = plt.subplots(figsize=(7,7)) \n",
        "heatmap = sns.heatmap(corr_matx,annot=True,square=True,fmt='.2f',annot_kws={'size': 15}, ax=ax)"
      ],
      "metadata": {
        "colab": {
          "base_uri": "https://localhost:8080/",
          "height": 415
        },
        "id": "Dx1d2qHBvwCm",
        "outputId": "02d54456-0fa7-46a1-cbd7-2b6c836d338f"
      },
      "execution_count": 654,
      "outputs": [
        {
          "output_type": "display_data",
          "data": {
            "text/plain": [
              "<Figure size 504x504 with 2 Axes>"
            ],
            "image/png": "[encoded data removed]"
          },
          "metadata": {
            "needs_background": "light"
          }
        }
      ]
    },
    {
      "cell_type": "code",
      "source": [
        "# df.plot.scatter('vagas', 'valor')\n",
        "# df.plot.scatter('metros', 'valor')\n",
        "fig, ([ax1, ax2]) = plt.subplots(1,2, figsize=(15,9))\n",
        "\n",
        "ax1.scatter(df['vagas'], df['valor'])\n",
        "ax1.set_title('Vagas')\n",
        "\n",
        "ax2.scatter(df['metros'], df['valor'])\n",
        "ax2.set_title('Metros')"
      ],
      "metadata": {
        "colab": {
          "base_uri": "https://localhost:8080/",
          "height": 571
        },
        "id": "d6wvCXa_0m4u",
        "outputId": "65383969-0d09-4e75-c25f-1e6913f52994"
      },
      "execution_count": 655,
      "outputs": [
        {
          "output_type": "execute_result",
          "data": {
            "text/plain": [
              "Text(0.5, 1.0, 'Metros')"
            ]
          },
          "metadata": {},
          "execution_count": 655
        },
        {
          "output_type": "display_data",
          "data": {
            "text/plain": [
              "<Figure size 1080x648 with 2 Axes>"
            ],
            "image/png": "[encoded data removed]"
          },
          "metadata": {
            "needs_background": "light"
          }
        }
      ]
    },
    {
      "cell_type": "markdown",
      "source": [
        "A matriz de correlação diz que as suposições que fiz podem ser verdadeiras com os valores próximos de 1. O valor do imóvel aumenta quando a metragem é maior assim como é com o número de garagens. Os gráficos de dispersão também provam isso."
      ],
      "metadata": {
        "id": "DdqQEeIV0WlH"
      }
    },
    {
      "cell_type": "markdown",
      "metadata": {
        "id": "6m0s9dQbkRZD"
      },
      "source": [
        "### __(BONUS: 1 ponto extra.)__ Análise de Outliers\n",
        "*Esse é um ponto extra, faça se quiser...\n",
        "\n",
        "Realize a análise e o tratamento de **outliers**, como referência para estudo:\n",
        "\n",
        "* [link1](https://machinelearningmastery.com/model-based-outlier-detection-and-removal-in-python/)\n",
        "* [link2](https://towardsdatascience.com/4-machine-learning-techniques-for-outlier-detection-in-python-21e9cfacb81d)\n",
        "* [link3](https://minerandodados.com.br/tratando-outliers-python/)\n",
        "\n",
        "**Pergunta:** Foram localizados outliers? Qual o método de análise adotado? Se existe, como os dados foram tratados (foram removidos ou mantidos)?\n",
        "\n",
        "R: Interpretando o box plot, vemos que existem 1 outlier para `metros` e 3 para `vagas`.\n",
        "\n",
        "Expandindo a tabela do `df` vemos que outliers de metros é um dos outliers de vagas. Também é possível descobrir facilmente que o `Jardim do Mar` que possui apenas 2 ocorrencias no dataframe faz parte dos outliers restantes de vagas e que todos esses outliers são possuem valores altos (porém não discrepantes) em outras colunas também.\n",
        "\n",
        "Decidi remover apenas o outlier de metros por ser uma ocorrencia única e ser o valor mais alto existente em todos as colunas e manter os outliers das vagas para não perder completamente todos os valores altos que temos no dataset junto com os únicos valores para o bairro Jardim do Mar."
      ]
    },
    {
      "cell_type": "markdown",
      "metadata": {
        "id": "H2rPjQHnkRZD"
      },
      "source": [
        "## 3. Desenvolvimento do Modelo"
      ]
    },
    {
      "cell_type": "markdown",
      "metadata": {
        "id": "iGiKzaI9kRZE"
      },
      "source": [
        "**Pergunta:** O conjunto de dados indica a aplicação de qual modelo de aprendizagem de maquina para determinação do valor de um imóvel? Por que ? "
      ]
    },
    {
      "cell_type": "markdown",
      "metadata": {
        "id": "X8keckM9kRZE"
      },
      "source": [
        "**Resposta:**\n",
        "\n",
        "    [ ] Aprendizado por reforço\n",
        "    [X] Aprendizado supervisionado\n",
        "    [ ] Aprendizado não supervisionado\n",
        "O aprendizado supervisionado é melhor. Temos os valores de entrada e exemplos do valor de saída desejado. No caso, os valores: metros, vagas, quartos, reformado e o bairro são as entradas e desejamos que a nossa máquina seja capaz de prever o valor, que já possuimos exemplos de saída que usaremos para treinar o modelo."
      ]
    },
    {
      "cell_type": "markdown",
      "metadata": {
        "id": "7kwzvV_EkRZE"
      },
      "source": [
        "**Pergunta:** Qual a técnica sugerida para este projeto?"
      ]
    },
    {
      "cell_type": "markdown",
      "metadata": {
        "id": "2GYmYQKMkRZE"
      },
      "source": [
        "**Resposta:**\n",
        "\n",
        "    [X] Regressão\n",
        "    [ ] Classificação\n",
        "    [ ] Clusterização"
      ]
    },
    {
      "cell_type": "markdown",
      "metadata": {
        "id": "COMFPRQDkRZE"
      },
      "source": [
        "**Pergunta:** Escolha 2 modelos de algoritmos para testar a performance de cada um deles."
      ]
    },
    {
      "cell_type": "markdown",
      "metadata": {
        "id": "DGYFE3FOkRZE"
      },
      "source": [
        "**Resposta:**\n",
        "Pela interpretação dos gráficos, existe uma linearidade.\n",
        "1. Regressão linear\n",
        "2. Random Forest Regressor"
      ]
    },
    {
      "cell_type": "markdown",
      "metadata": {
        "id": "AL2SRHj2kRZF"
      },
      "source": [
        "__(BONUS: 1 ponto extra.)__ **Pergunta:** Explique como cada algoritmo funciona.\n"
      ]
    },
    {
      "cell_type": "markdown",
      "metadata": {
        "id": "rQRdg6IQkRZF"
      },
      "source": [
        "**Resposta:**\n",
        "\n",
        "1. A regressão linear é um algoritmo que busca traçar uma linha reta que melhor se ajuste aos pontos de um conjunto de dados, de modo a prever uma relação entre uma variável dependente e uma ou mais variáveis independentes.\n",
        "2. O Random Forest Regressor é um algoritmo de aprendizado de máquina que combina várias árvores de decisão para prever um resultado numérico. Ele funciona criando várias árvores de decisão aleatórias e combinando suas previsões para gerar uma previsão final mais precisa."
      ]
    },
    {
      "cell_type": "markdown",
      "metadata": {
        "id": "dh_BIPOykRZF"
      },
      "source": [
        "## 4. Treinamento e teste do modelo"
      ]
    },
    {
      "cell_type": "markdown",
      "metadata": {
        "id": "CHh9Le1kkRZF"
      },
      "source": [
        "Crie um subset dos dados apenas com os atributos que serão utilizados para o treinameno e teste do modelo. Divida o subset em conjunto de treinamento e teste."
      ]
    },
    {
      "cell_type": "code",
      "source": [
        "# como não é possível trabalhar com dados que não sejam numéricos, vamos transformar em dados numéricos\n",
        "df_subset = pd.get_dummies(df, columns=['bairro'])"
      ],
      "metadata": {
        "id": "1ounxf2tRAWz"
      },
      "execution_count": 656,
      "outputs": []
    },
    {
      "cell_type": "code",
      "source": [
        "df_subset"
      ],
      "metadata": {
        "colab": {
          "base_uri": "https://localhost:8080/",
          "height": 505
        },
        "id": "c_dKs9HFRTli",
        "outputId": "eee21584-fa2e-4841-f45a-0dbc80ad651b"
      },
      "execution_count": 657,
      "outputs": [
        {
          "output_type": "execute_result",
          "data": {
            "text/plain": [
              "     metros  valor  quartos  vagas  reformado  bairro_Assuncao  \\\n",
              "0       107  560.0        3      2        0.0                0   \n",
              "2        49  196.0        2      1        0.0                0   \n",
              "3       104  515.0        3      2        1.0                0   \n",
              "4        92  560.0        3      2        1.0                0   \n",
              "5        51  249.0        2      1        0.0                0   \n",
              "..      ...    ...      ...    ...        ...              ...   \n",
              "109      65  340.0        2      2        1.0                0   \n",
              "110      56  247.0        2      1        0.0                0   \n",
              "111     126  736.0        3      3        0.0                0   \n",
              "112      96  560.0        3      1        0.0                0   \n",
              "113     103  667.0        3      3        0.0                0   \n",
              "\n",
              "     bairro_Baeta Neves  bairro_Centro  bairro_Demarchi  bairro_Ferrazopolis  \\\n",
              "0                     0              0                0                    0   \n",
              "2                     0              0                0                    1   \n",
              "3                     0              1                0                    0   \n",
              "4                     0              0                0                    0   \n",
              "5                     0              0                0                    0   \n",
              "..                  ...            ...              ...                  ...   \n",
              "109                   0              1                0                    0   \n",
              "110                   0              0                0                    0   \n",
              "111                   0              0                0                    0   \n",
              "112                   0              1                0                    0   \n",
              "113                   1              0                0                    0   \n",
              "\n",
              "     ...  bairro_Jardim do Mar  bairro_Jordanopolis  bairro_Nova Petropolis  \\\n",
              "0    ...                     0                    0                       0   \n",
              "2    ...                     0                    0                       0   \n",
              "3    ...                     0                    0                       0   \n",
              "4    ...                     0                    0                       0   \n",
              "5    ...                     0                    0                       0   \n",
              "..   ...                   ...                  ...                     ...   \n",
              "109  ...                     0                    0                       0   \n",
              "110  ...                     0                    0                       0   \n",
              "111  ...                     0                    0                       0   \n",
              "112  ...                     0                    0                       0   \n",
              "113  ...                     0                    0                       0   \n",
              "\n",
              "     bairro_Pauliceia  bairro_Piraporinha  bairro_Planalto  \\\n",
              "0                   0                   0                0   \n",
              "2                   0                   0                0   \n",
              "3                   0                   0                0   \n",
              "4                   0                   0                0   \n",
              "5                   0                   0                0   \n",
              "..                ...                 ...              ...   \n",
              "109                 0                   0                0   \n",
              "110                 0                   0                1   \n",
              "111                 0                   0                0   \n",
              "112                 0                   0                0   \n",
              "113                 0                   0                0   \n",
              "\n",
              "     bairro_Rudge Ramos  bairro_Santa Teresinha  bairro_Taboao  \\\n",
              "0                     0                       0              0   \n",
              "2                     0                       0              0   \n",
              "3                     0                       0              0   \n",
              "4                     0                       0              0   \n",
              "5                     0                       0              1   \n",
              "..                  ...                     ...            ...   \n",
              "109                   0                       0              0   \n",
              "110                   0                       0              0   \n",
              "111                   0                       0              0   \n",
              "112                   0                       0              0   \n",
              "113                   0                       0              0   \n",
              "\n",
              "     bairro_Vila Lusitania  \n",
              "0                        1  \n",
              "2                        0  \n",
              "3                        0  \n",
              "4                        1  \n",
              "5                        0  \n",
              "..                     ...  \n",
              "109                      0  \n",
              "110                      0  \n",
              "111                      0  \n",
              "112                      0  \n",
              "113                      0  \n",
              "\n",
              "[111 rows x 22 columns]"
            ],
            "text/html": [
              "\n",
              "  <div id=\"df-305a3ec8-f8de-498a-9e2d-2a726d6a3601\">\n",
              "    <div class=\"colab-df-container\">\n",
              "      <div>\n",
              "<style scoped>\n",
              "    .dataframe tbody tr th:only-of-type {\n",
              "        vertical-align: middle;\n",
              "    }\n",
              "\n",
              "    .dataframe tbody tr th {\n",
              "        vertical-align: top;\n",
              "    }\n",
              "\n",
              "    .dataframe thead th {\n",
              "        text-align: right;\n",
              "    }\n",
              "</style>\n",
              "<table border=\"1\" class=\"dataframe\">\n",
              "  <thead>\n",
              "    <tr style=\"text-align: right;\">\n",
              "      <th></th>\n",
              "      <th>metros</th>\n",
              "      <th>valor</th>\n",
              "      <th>quartos</th>\n",
              "      <th>vagas</th>\n",
              "      <th>reformado</th>\n",
              "      <th>bairro_Assuncao</th>\n",
              "      <th>bairro_Baeta Neves</th>\n",
              "      <th>bairro_Centro</th>\n",
              "      <th>bairro_Demarchi</th>\n",
              "      <th>bairro_Ferrazopolis</th>\n",
              "      <th>...</th>\n",
              "      <th>bairro_Jardim do Mar</th>\n",
              "      <th>bairro_Jordanopolis</th>\n",
              "      <th>bairro_Nova Petropolis</th>\n",
              "      <th>bairro_Pauliceia</th>\n",
              "      <th>bairro_Piraporinha</th>\n",
              "      <th>bairro_Planalto</th>\n",
              "      <th>bairro_Rudge Ramos</th>\n",
              "      <th>bairro_Santa Teresinha</th>\n",
              "      <th>bairro_Taboao</th>\n",
              "      <th>bairro_Vila Lusitania</th>\n",
              "    </tr>\n",
              "  </thead>\n",
              "  <tbody>\n",
              "    <tr>\n",
              "      <th>0</th>\n",
              "      <td>107</td>\n",
              "      <td>560.0</td>\n",
              "      <td>3</td>\n",
              "      <td>2</td>\n",
              "      <td>0.0</td>\n",
              "      <td>0</td>\n",
              "      <td>0</td>\n",
              "      <td>0</td>\n",
              "      <td>0</td>\n",
              "      <td>0</td>\n",
              "      <td>...</td>\n",
              "      <td>0</td>\n",
              "      <td>0</td>\n",
              "      <td>0</td>\n",
              "      <td>0</td>\n",
              "      <td>0</td>\n",
              "      <td>0</td>\n",
              "      <td>0</td>\n",
              "      <td>0</td>\n",
              "      <td>0</td>\n",
              "      <td>1</td>\n",
              "    </tr>\n",
              "    <tr>\n",
              "      <th>2</th>\n",
              "      <td>49</td>\n",
              "      <td>196.0</td>\n",
              "      <td>2</td>\n",
              "      <td>1</td>\n",
              "      <td>0.0</td>\n",
              "      <td>0</td>\n",
              "      <td>0</td>\n",
              "      <td>0</td>\n",
              "      <td>0</td>\n",
              "      <td>1</td>\n",
              "      <td>...</td>\n",
              "      <td>0</td>\n",
              "      <td>0</td>\n",
              "      <td>0</td>\n",
              "      <td>0</td>\n",
              "      <td>0</td>\n",
              "      <td>0</td>\n",
              "      <td>0</td>\n",
              "      <td>0</td>\n",
              "      <td>0</td>\n",
              "      <td>0</td>\n",
              "    </tr>\n",
              "    <tr>\n",
              "      <th>3</th>\n",
              "      <td>104</td>\n",
              "      <td>515.0</td>\n",
              "      <td>3</td>\n",
              "      <td>2</td>\n",
              "      <td>1.0</td>\n",
              "      <td>0</td>\n",
              "      <td>0</td>\n",
              "      <td>1</td>\n",
              "      <td>0</td>\n",
              "      <td>0</td>\n",
              "      <td>...</td>\n",
              "      <td>0</td>\n",
              "      <td>0</td>\n",
              "      <td>0</td>\n",
              "      <td>0</td>\n",
              "      <td>0</td>\n",
              "      <td>0</td>\n",
              "      <td>0</td>\n",
              "      <td>0</td>\n",
              "      <td>0</td>\n",
              "      <td>0</td>\n",
              "    </tr>\n",
              "    <tr>\n",
              "      <th>4</th>\n",
              "      <td>92</td>\n",
              "      <td>560.0</td>\n",
              "      <td>3</td>\n",
              "      <td>2</td>\n",
              "      <td>1.0</td>\n",
              "      <td>0</td>\n",
              "      <td>0</td>\n",
              "      <td>0</td>\n",
              "      <td>0</td>\n",
              "      <td>0</td>\n",
              "      <td>...</td>\n",
              "      <td>0</td>\n",
              "      <td>0</td>\n",
              "      <td>0</td>\n",
              "      <td>0</td>\n",
              "      <td>0</td>\n",
              "      <td>0</td>\n",
              "      <td>0</td>\n",
              "      <td>0</td>\n",
              "      <td>0</td>\n",
              "      <td>1</td>\n",
              "    </tr>\n",
              "    <tr>\n",
              "      <th>5</th>\n",
              "      <td>51</td>\n",
              "      <td>249.0</td>\n",
              "      <td>2</td>\n",
              "      <td>1</td>\n",
              "      <td>0.0</td>\n",
              "      <td>0</td>\n",
              "      <td>0</td>\n",
              "      <td>0</td>\n",
              "      <td>0</td>\n",
              "      <td>0</td>\n",
              "      <td>...</td>\n",
              "      <td>0</td>\n",
              "      <td>0</td>\n",
              "      <td>0</td>\n",
              "      <td>0</td>\n",
              "      <td>0</td>\n",
              "      <td>0</td>\n",
              "      <td>0</td>\n",
              "      <td>0</td>\n",
              "      <td>1</td>\n",
              "      <td>0</td>\n",
              "    </tr>\n",
              "    <tr>\n",
              "      <th>...</th>\n",
              "      <td>...</td>\n",
              "      <td>...</td>\n",
              "      <td>...</td>\n",
              "      <td>...</td>\n",
              "      <td>...</td>\n",
              "      <td>...</td>\n",
              "      <td>...</td>\n",
              "      <td>...</td>\n",
              "      <td>...</td>\n",
              "      <td>...</td>\n",
              "      <td>...</td>\n",
              "      <td>...</td>\n",
              "      <td>...</td>\n",
              "      <td>...</td>\n",
              "      <td>...</td>\n",
              "      <td>...</td>\n",
              "      <td>...</td>\n",
              "      <td>...</td>\n",
              "      <td>...</td>\n",
              "      <td>...</td>\n",
              "      <td>...</td>\n",
              "    </tr>\n",
              "    <tr>\n",
              "      <th>109</th>\n",
              "      <td>65</td>\n",
              "      <td>340.0</td>\n",
              "      <td>2</td>\n",
              "      <td>2</td>\n",
              "      <td>1.0</td>\n",
              "      <td>0</td>\n",
              "      <td>0</td>\n",
              "      <td>1</td>\n",
              "      <td>0</td>\n",
              "      <td>0</td>\n",
              "      <td>...</td>\n",
              "      <td>0</td>\n",
              "      <td>0</td>\n",
              "      <td>0</td>\n",
              "      <td>0</td>\n",
              "      <td>0</td>\n",
              "      <td>0</td>\n",
              "      <td>0</td>\n",
              "      <td>0</td>\n",
              "      <td>0</td>\n",
              "      <td>0</td>\n",
              "    </tr>\n",
              "    <tr>\n",
              "      <th>110</th>\n",
              "      <td>56</td>\n",
              "      <td>247.0</td>\n",
              "      <td>2</td>\n",
              "      <td>1</td>\n",
              "      <td>0.0</td>\n",
              "      <td>0</td>\n",
              "      <td>0</td>\n",
              "      <td>0</td>\n",
              "      <td>0</td>\n",
              "      <td>0</td>\n",
              "      <td>...</td>\n",
              "      <td>0</td>\n",
              "      <td>0</td>\n",
              "      <td>0</td>\n",
              "      <td>0</td>\n",
              "      <td>0</td>\n",
              "      <td>1</td>\n",
              "      <td>0</td>\n",
              "      <td>0</td>\n",
              "      <td>0</td>\n",
              "      <td>0</td>\n",
              "    </tr>\n",
              "    <tr>\n",
              "      <th>111</th>\n",
              "      <td>126</td>\n",
              "      <td>736.0</td>\n",
              "      <td>3</td>\n",
              "      <td>3</td>\n",
              "      <td>0.0</td>\n",
              "      <td>0</td>\n",
              "      <td>0</td>\n",
              "      <td>0</td>\n",
              "      <td>0</td>\n",
              "      <td>0</td>\n",
              "      <td>...</td>\n",
              "      <td>0</td>\n",
              "      <td>0</td>\n",
              "      <td>0</td>\n",
              "      <td>0</td>\n",
              "      <td>0</td>\n",
              "      <td>0</td>\n",
              "      <td>0</td>\n",
              "      <td>0</td>\n",
              "      <td>0</td>\n",
              "      <td>0</td>\n",
              "    </tr>\n",
              "    <tr>\n",
              "      <th>112</th>\n",
              "      <td>96</td>\n",
              "      <td>560.0</td>\n",
              "      <td>3</td>\n",
              "      <td>1</td>\n",
              "      <td>0.0</td>\n",
              "      <td>0</td>\n",
              "      <td>0</td>\n",
              "      <td>1</td>\n",
              "      <td>0</td>\n",
              "      <td>0</td>\n",
              "      <td>...</td>\n",
              "      <td>0</td>\n",
              "      <td>0</td>\n",
              "      <td>0</td>\n",
              "      <td>0</td>\n",
              "      <td>0</td>\n",
              "      <td>0</td>\n",
              "      <td>0</td>\n",
              "      <td>0</td>\n",
              "      <td>0</td>\n",
              "      <td>0</td>\n",
              "    </tr>\n",
              "    <tr>\n",
              "      <th>113</th>\n",
              "      <td>103</td>\n",
              "      <td>667.0</td>\n",
              "      <td>3</td>\n",
              "      <td>3</td>\n",
              "      <td>0.0</td>\n",
              "      <td>0</td>\n",
              "      <td>1</td>\n",
              "      <td>0</td>\n",
              "      <td>0</td>\n",
              "      <td>0</td>\n",
              "      <td>...</td>\n",
              "      <td>0</td>\n",
              "      <td>0</td>\n",
              "      <td>0</td>\n",
              "      <td>0</td>\n",
              "      <td>0</td>\n",
              "      <td>0</td>\n",
              "      <td>0</td>\n",
              "      <td>0</td>\n",
              "      <td>0</td>\n",
              "      <td>0</td>\n",
              "    </tr>\n",
              "  </tbody>\n",
              "</table>\n",
              "<p>111 rows × 22 columns</p>\n",
              "</div>\n",
              "      <button class=\"colab-df-convert\" onclick=\"convertToInteractive('df-305a3ec8-f8de-498a-9e2d-2a726d6a3601')\"\n",
              "              title=\"Convert this dataframe to an interactive table.\"\n",
              "              style=\"display:none;\">\n",
              "        \n",
              "  <svg xmlns=\"http://www.w3.org/2000/svg\" height=\"24px\"viewBox=\"0 0 24 24\"\n",
              "       width=\"24px\">\n",
              "    <path d=\"M0 0h24v24H0V0z\" fill=\"none\"/>\n",
              "    <path d=\"M18.56 5.44l.94 2.06.94-2.06 2.06-.94-2.06-.94-.94-2.06-.94 2.06-2.06.94zm-11 1L8.5 8.5l.94-2.06 2.06-.94-2.06-.94L8.5 2.5l-.94 2.06-2.06.94zm10 10l.94 2.06.94-2.06 2.06-.94-2.06-.94-.94-2.06-.94 2.06-2.06.94z\"/><path d=\"M17.41 7.96l-1.37-1.37c-.4-.4-.92-.59-1.43-.59-.52 0-1.04.2-1.43.59L10.3 9.45l-7.72 7.72c-.78.78-.78 2.05 0 2.83L4 21.41c.39.39.9.59 1.41.59.51 0 1.02-.2 1.41-.59l7.78-7.78 2.81-2.81c.8-.78.8-2.07 0-2.86zM5.41 20L4 18.59l7.72-7.72 1.47 1.35L5.41 20z\"/>\n",
              "  </svg>\n",
              "      </button>\n",
              "      \n",
              "  <style>\n",
              "    .colab-df-container {\n",
              "      display:flex;\n",
              "      flex-wrap:wrap;\n",
              "      gap: 12px;\n",
              "    }\n",
              "\n",
              "    .colab-df-convert {\n",
              "      background-color: #E8F0FE;\n",
              "      border: none;\n",
              "      border-radius: 50%;\n",
              "      cursor: pointer;\n",
              "      display: none;\n",
              "      fill: #1967D2;\n",
              "      height: 32px;\n",
              "      padding: 0 0 0 0;\n",
              "      width: 32px;\n",
              "    }\n",
              "\n",
              "    .colab-df-convert:hover {\n",
              "      background-color: #E2EBFA;\n",
              "      box-shadow: 0px 1px 2px rgba(60, 64, 67, 0.3), 0px 1px 3px 1px rgba(60, 64, 67, 0.15);\n",
              "      fill: #174EA6;\n",
              "    }\n",
              "\n",
              "    [theme=dark] .colab-df-convert {\n",
              "      background-color: #3B4455;\n",
              "      fill: #D2E3FC;\n",
              "    }\n",
              "\n",
              "    [theme=dark] .colab-df-convert:hover {\n",
              "      background-color: #434B5C;\n",
              "      box-shadow: 0px 1px 3px 1px rgba(0, 0, 0, 0.15);\n",
              "      filter: drop-shadow(0px 1px 2px rgba(0, 0, 0, 0.3));\n",
              "      fill: #FFFFFF;\n",
              "    }\n",
              "  </style>\n",
              "\n",
              "      <script>\n",
              "        const buttonEl =\n",
              "          document.querySelector('#df-305a3ec8-f8de-498a-9e2d-2a726d6a3601 button.colab-df-convert');\n",
              "        buttonEl.style.display =\n",
              "          google.colab.kernel.accessAllowed ? 'block' : 'none';\n",
              "\n",
              "        async function convertToInteractive(key) {\n",
              "          const element = document.querySelector('#df-305a3ec8-f8de-498a-9e2d-2a726d6a3601');\n",
              "          const dataTable =\n",
              "            await google.colab.kernel.invokeFunction('convertToInteractive',\n",
              "                                                     [key], {});\n",
              "          if (!dataTable) return;\n",
              "\n",
              "          const docLinkHtml = 'Like what you see? Visit the ' +\n",
              "            '<a target=\"_blank\" href=https://colab.research.google.com/notebooks/data_table.ipynb>data table notebook</a>'\n",
              "            + ' to learn more about interactive tables.';\n",
              "          element.innerHTML = '';\n",
              "          dataTable['output_type'] = 'display_data';\n",
              "          await google.colab.output.renderOutput(dataTable, element);\n",
              "          const docLink = document.createElement('div');\n",
              "          docLink.innerHTML = docLinkHtml;\n",
              "          element.appendChild(docLink);\n",
              "        }\n",
              "      </script>\n",
              "    </div>\n",
              "  </div>\n",
              "  "
            ]
          },
          "metadata": {},
          "execution_count": 657
        }
      ]
    },
    {
      "cell_type": "code",
      "source": [
        "from sklearn.model_selection import train_test_split\n",
        "\n",
        "# x = df_subset[['quartos', 'vagas', 'metros']]\n",
        "x = df_subset.drop('valor', axis=1)\n",
        "y = df_subset['valor']\n",
        "\n",
        "# separando os dados de treino e de teste em proporções\n",
        "x_treino, x_teste, y_treino, y_teste = train_test_split(x, y, test_size=0.2, random_state=42)"
      ],
      "metadata": {
        "id": "Rxcz6iY6Rv3n"
      },
      "execution_count": 781,
      "outputs": []
    },
    {
      "cell_type": "markdown",
      "metadata": {
        "id": "SAcOd335kRZF"
      },
      "source": [
        "Faça o treinamento e teste dos 2 algoritmos escolhidos. Utilize uma métrica (ex. R2-score, RMSE e MAE...) para avaliar a performance dos modelos."
      ]
    },
    {
      "cell_type": "markdown",
      "metadata": {
        "id": "LcykSYEMkRZG"
      },
      "source": [
        "### Algoritmo 1 - Regressão Linear"
      ]
    },
    {
      "cell_type": "code",
      "execution_count": 782,
      "metadata": {
        "colab": {
          "base_uri": "https://localhost:8080/",
          "height": 74
        },
        "id": "wKPaDHeIkRZG",
        "outputId": "d7ae60f8-bb81-4aa4-e77e-d639aeea1c48"
      },
      "outputs": [
        {
          "output_type": "execute_result",
          "data": {
            "text/plain": [
              "LinearRegression()"
            ],
            "text/html": [
              "<style>#sk-container-id-85 {color: black;background-color: white;}#sk-container-id-85 pre{padding: 0;}#sk-container-id-85 div.sk-toggleable {background-color: white;}#sk-container-id-85 label.sk-toggleable__label {cursor: pointer;display: block;width: 100%;margin-bottom: 0;padding: 0.3em;box-sizing: border-box;text-align: center;}#sk-container-id-85 label.sk-toggleable__label-arrow:before {content: \"▸\";float: left;margin-right: 0.25em;color: #696969;}#sk-container-id-85 label.sk-toggleable__label-arrow:hover:before {color: black;}#sk-container-id-85 div.sk-estimator:hover label.sk-toggleable__label-arrow:before {color: black;}#sk-container-id-85 div.sk-toggleable__content {max-height: 0;max-width: 0;overflow: hidden;text-align: left;background-color: #f0f8ff;}#sk-container-id-85 div.sk-toggleable__content pre {margin: 0.2em;color: black;border-radius: 0.25em;background-color: #f0f8ff;}#sk-container-id-85 input.sk-toggleable__control:checked~div.sk-toggleable__content {max-height: 200px;max-width: 100%;overflow: auto;}#sk-container-id-85 input.sk-toggleable__control:checked~label.sk-toggleable__label-arrow:before {content: \"▾\";}#sk-container-id-85 div.sk-estimator input.sk-toggleable__control:checked~label.sk-toggleable__label {background-color: #d4ebff;}#sk-container-id-85 div.sk-label input.sk-toggleable__control:checked~label.sk-toggleable__label {background-color: #d4ebff;}#sk-container-id-85 input.sk-hidden--visually {border: 0;clip: rect(1px 1px 1px 1px);clip: rect(1px, 1px, 1px, 1px);height: 1px;margin: -1px;overflow: hidden;padding: 0;position: absolute;width: 1px;}#sk-container-id-85 div.sk-estimator {font-family: monospace;background-color: #f0f8ff;border: 1px dotted black;border-radius: 0.25em;box-sizing: border-box;margin-bottom: 0.5em;}#sk-container-id-85 div.sk-estimator:hover {background-color: #d4ebff;}#sk-container-id-85 div.sk-parallel-item::after {content: \"\";width: 100%;border-bottom: 1px solid gray;flex-grow: 1;}#sk-container-id-85 div.sk-label:hover label.sk-toggleable__label {background-color: #d4ebff;}#sk-container-id-85 div.sk-serial::before {content: \"\";position: absolute;border-left: 1px solid gray;box-sizing: border-box;top: 0;bottom: 0;left: 50%;z-index: 0;}#sk-container-id-85 div.sk-serial {display: flex;flex-direction: column;align-items: center;background-color: white;padding-right: 0.2em;padding-left: 0.2em;position: relative;}#sk-container-id-85 div.sk-item {position: relative;z-index: 1;}#sk-container-id-85 div.sk-parallel {display: flex;align-items: stretch;justify-content: center;background-color: white;position: relative;}#sk-container-id-85 div.sk-item::before, #sk-container-id-85 div.sk-parallel-item::before {content: \"\";position: absolute;border-left: 1px solid gray;box-sizing: border-box;top: 0;bottom: 0;left: 50%;z-index: -1;}#sk-container-id-85 div.sk-parallel-item {display: flex;flex-direction: column;z-index: 1;position: relative;background-color: white;}#sk-container-id-85 div.sk-parallel-item:first-child::after {align-self: flex-end;width: 50%;}#sk-container-id-85 div.sk-parallel-item:last-child::after {align-self: flex-start;width: 50%;}#sk-container-id-85 div.sk-parallel-item:only-child::after {width: 0;}#sk-container-id-85 div.sk-dashed-wrapped {border: 1px dashed gray;margin: 0 0.4em 0.5em 0.4em;box-sizing: border-box;padding-bottom: 0.4em;background-color: white;}#sk-container-id-85 div.sk-label label {font-family: monospace;font-weight: bold;display: inline-block;line-height: 1.2em;}#sk-container-id-85 div.sk-label-container {text-align: center;}#sk-container-id-85 div.sk-container {/* jupyter's `normalize.less` sets `[hidden] { display: none; }` but bootstrap.min.css set `[hidden] { display: none !important; }` so we also need the `!important` here to be able to override the default hidden behavior on the sphinx rendered scikit-learn.org. See: https://github.com/scikit-learn/scikit-learn/issues/21755 */display: inline-block !important;position: relative;}#sk-container-id-85 div.sk-text-repr-fallback {display: none;}</style><div id=\"sk-container-id-85\" class=\"sk-top-container\"><div class=\"sk-text-repr-fallback\"><pre>LinearRegression()</pre><b>In a Jupyter environment, please rerun this cell to show the HTML representation or trust the notebook. <br />On GitHub, the HTML representation is unable to render, please try loading this page with nbviewer.org.</b></div><div class=\"sk-container\" hidden><div class=\"sk-item\"><div class=\"sk-estimator sk-toggleable\"><input class=\"sk-toggleable__control sk-hidden--visually\" id=\"sk-estimator-id-85\" type=\"checkbox\" checked><label for=\"sk-estimator-id-85\" class=\"sk-toggleable__label sk-toggleable__label-arrow\">LinearRegression</label><div class=\"sk-toggleable__content\"><pre>LinearRegression()</pre></div></div></div></div></div>"
            ]
          },
          "metadata": {},
          "execution_count": 782
        }
      ],
      "source": [
        "from sklearn.linear_model import LinearRegression\n",
        "lin_model = LinearRegression()\n",
        "lin_model.fit(x_treino, y_treino)"
      ]
    },
    {
      "cell_type": "code",
      "source": [
        "y_teste_predito = lin_model.predict(x_teste)\n",
        "y_treino_predito = lin_model.predict(x_treino)"
      ],
      "metadata": {
        "id": "n9Fd50kRTEok"
      },
      "execution_count": 783,
      "outputs": []
    },
    {
      "cell_type": "code",
      "source": [
        "from sklearn.metrics import r2_score\n",
        "r2_lin_treino = r2_score(y_true = y_treino, y_pred = y_treino_predito)\n",
        "r2_lin_teste = r2_score(y_true = y_teste, y_pred = y_teste_predito)\n",
        "\n",
        "print(f\"R2_treino: {r2_lin_treino}\\n\"\n",
        "      f\"R2_teste: {r2_lin_teste}\")"
      ],
      "metadata": {
        "colab": {
          "base_uri": "https://localhost:8080/"
        },
        "id": "bOmPQENpUZWs",
        "outputId": "030c4e24-7833-478d-ac4c-dbe407178c55"
      },
      "execution_count": 784,
      "outputs": [
        {
          "output_type": "stream",
          "name": "stdout",
          "text": [
            "R2_treino: 0.8705084511196816\n",
            "R2_teste: 0.8151177463596749\n"
          ]
        }
      ]
    },
    {
      "cell_type": "markdown",
      "source": [
        "Após rodar sem `random_state` definido várias vezes, percebi que o valor de R2 variava muito. Então decidi fazer testes e comparações com valores diferentes e variando a variável `test_size` de uma proporção 80-20 para 70-30\n",
        "\n",
        "|`random_state`|`test_size`|RS_treino|RS_teste|Diferença|\n",
        "|:-:|:-:|:-:|:-:|:-:|\n",
        "|42|0.2|0.87|0.81|0.06\n",
        "|42|0.3|0.89|0.73|0.13\n",
        "|100|0.2|0.86|0.86|0\n",
        "|100|0.3|0.85|0.83|0.02\n",
        "|12|0.2|0.87|0.74|0.13\n",
        "|12|0.3|0.88|0.74|0.14\n",
        "|1|0.2|0.88|0.76|0.12\n",
        "|1|0.3|0.88|0.76|0.12\n",
        "|2|0.2|0.84|0.90|-0.06\n",
        "|2|0.3|0.85|0.82|0.03\n",
        "|-|-|-|-|*Diferença média = 0.069*|"
      ],
      "metadata": {
        "id": "L7GbschreHpM"
      }
    },
    {
      "cell_type": "markdown",
      "metadata": {
        "id": "Xy_QtYQ_kRZG"
      },
      "source": [
        "### Algoritmo 2 - Random forest Regressor"
      ]
    },
    {
      "cell_type": "code",
      "source": [
        "from sklearn.ensemble import RandomForestRegressor\n",
        "rfr = RandomForestRegressor(n_estimators=100, random_state=42)\n",
        "rfr.fit(x_treino, y_treino)"
      ],
      "metadata": {
        "colab": {
          "base_uri": "https://localhost:8080/",
          "height": 74
        },
        "id": "ssamsbQ5jzKt",
        "outputId": "a4be6505-8a02-43ec-bcd1-6aaafe36970c"
      },
      "execution_count": 785,
      "outputs": [
        {
          "output_type": "execute_result",
          "data": {
            "text/plain": [
              "RandomForestRegressor(random_state=42)"
            ],
            "text/html": [
              "<style>#sk-container-id-86 {color: black;background-color: white;}#sk-container-id-86 pre{padding: 0;}#sk-container-id-86 div.sk-toggleable {background-color: white;}#sk-container-id-86 label.sk-toggleable__label {cursor: pointer;display: block;width: 100%;margin-bottom: 0;padding: 0.3em;box-sizing: border-box;text-align: center;}#sk-container-id-86 label.sk-toggleable__label-arrow:before {content: \"▸\";float: left;margin-right: 0.25em;color: #696969;}#sk-container-id-86 label.sk-toggleable__label-arrow:hover:before {color: black;}#sk-container-id-86 div.sk-estimator:hover label.sk-toggleable__label-arrow:before {color: black;}#sk-container-id-86 div.sk-toggleable__content {max-height: 0;max-width: 0;overflow: hidden;text-align: left;background-color: #f0f8ff;}#sk-container-id-86 div.sk-toggleable__content pre {margin: 0.2em;color: black;border-radius: 0.25em;background-color: #f0f8ff;}#sk-container-id-86 input.sk-toggleable__control:checked~div.sk-toggleable__content {max-height: 200px;max-width: 100%;overflow: auto;}#sk-container-id-86 input.sk-toggleable__control:checked~label.sk-toggleable__label-arrow:before {content: \"▾\";}#sk-container-id-86 div.sk-estimator input.sk-toggleable__control:checked~label.sk-toggleable__label {background-color: #d4ebff;}#sk-container-id-86 div.sk-label input.sk-toggleable__control:checked~label.sk-toggleable__label {background-color: #d4ebff;}#sk-container-id-86 input.sk-hidden--visually {border: 0;clip: rect(1px 1px 1px 1px);clip: rect(1px, 1px, 1px, 1px);height: 1px;margin: -1px;overflow: hidden;padding: 0;position: absolute;width: 1px;}#sk-container-id-86 div.sk-estimator {font-family: monospace;background-color: #f0f8ff;border: 1px dotted black;border-radius: 0.25em;box-sizing: border-box;margin-bottom: 0.5em;}#sk-container-id-86 div.sk-estimator:hover {background-color: #d4ebff;}#sk-container-id-86 div.sk-parallel-item::after {content: \"\";width: 100%;border-bottom: 1px solid gray;flex-grow: 1;}#sk-container-id-86 div.sk-label:hover label.sk-toggleable__label {background-color: #d4ebff;}#sk-container-id-86 div.sk-serial::before {content: \"\";position: absolute;border-left: 1px solid gray;box-sizing: border-box;top: 0;bottom: 0;left: 50%;z-index: 0;}#sk-container-id-86 div.sk-serial {display: flex;flex-direction: column;align-items: center;background-color: white;padding-right: 0.2em;padding-left: 0.2em;position: relative;}#sk-container-id-86 div.sk-item {position: relative;z-index: 1;}#sk-container-id-86 div.sk-parallel {display: flex;align-items: stretch;justify-content: center;background-color: white;position: relative;}#sk-container-id-86 div.sk-item::before, #sk-container-id-86 div.sk-parallel-item::before {content: \"\";position: absolute;border-left: 1px solid gray;box-sizing: border-box;top: 0;bottom: 0;left: 50%;z-index: -1;}#sk-container-id-86 div.sk-parallel-item {display: flex;flex-direction: column;z-index: 1;position: relative;background-color: white;}#sk-container-id-86 div.sk-parallel-item:first-child::after {align-self: flex-end;width: 50%;}#sk-container-id-86 div.sk-parallel-item:last-child::after {align-self: flex-start;width: 50%;}#sk-container-id-86 div.sk-parallel-item:only-child::after {width: 0;}#sk-container-id-86 div.sk-dashed-wrapped {border: 1px dashed gray;margin: 0 0.4em 0.5em 0.4em;box-sizing: border-box;padding-bottom: 0.4em;background-color: white;}#sk-container-id-86 div.sk-label label {font-family: monospace;font-weight: bold;display: inline-block;line-height: 1.2em;}#sk-container-id-86 div.sk-label-container {text-align: center;}#sk-container-id-86 div.sk-container {/* jupyter's `normalize.less` sets `[hidden] { display: none; }` but bootstrap.min.css set `[hidden] { display: none !important; }` so we also need the `!important` here to be able to override the default hidden behavior on the sphinx rendered scikit-learn.org. See: https://github.com/scikit-learn/scikit-learn/issues/21755 */display: inline-block !important;position: relative;}#sk-container-id-86 div.sk-text-repr-fallback {display: none;}</style><div id=\"sk-container-id-86\" class=\"sk-top-container\"><div class=\"sk-text-repr-fallback\"><pre>RandomForestRegressor(random_state=42)</pre><b>In a Jupyter environment, please rerun this cell to show the HTML representation or trust the notebook. <br />On GitHub, the HTML representation is unable to render, please try loading this page with nbviewer.org.</b></div><div class=\"sk-container\" hidden><div class=\"sk-item\"><div class=\"sk-estimator sk-toggleable\"><input class=\"sk-toggleable__control sk-hidden--visually\" id=\"sk-estimator-id-86\" type=\"checkbox\" checked><label for=\"sk-estimator-id-86\" class=\"sk-toggleable__label sk-toggleable__label-arrow\">RandomForestRegressor</label><div class=\"sk-toggleable__content\"><pre>RandomForestRegressor(random_state=42)</pre></div></div></div></div></div>"
            ]
          },
          "metadata": {},
          "execution_count": 785
        }
      ]
    },
    {
      "cell_type": "code",
      "execution_count": 786,
      "metadata": {
        "id": "eelgWUOkkRZG"
      },
      "outputs": [],
      "source": [
        "ry_pred = rfr.predict(x_teste)"
      ]
    },
    {
      "cell_type": "code",
      "source": [
        "from sklearn.metrics import r2_score\n",
        "y_train_pred = rfr.predict(x_treino)\n",
        "r2_train = r2_score(y_treino, y_train_pred)\n",
        "y_test_pred = rfr.predict(x_teste)\n",
        "r2_test = r2_score(y_teste, y_test_pred)\n",
        "\n",
        "print(f\"R2_treino: {r2_train}\\n\"\n",
        "      f\"R2_teste: {r2_test}\")"
      ],
      "metadata": {
        "colab": {
          "base_uri": "https://localhost:8080/"
        },
        "id": "T6YkHKdOk3o0",
        "outputId": "392208d7-0620-4a68-93f8-66a29ea556b1"
      },
      "execution_count": 788,
      "outputs": [
        {
          "output_type": "stream",
          "name": "stdout",
          "text": [
            "R2_treino: 0.9667831235120884\n",
            "R2_teste: 0.8576831055611949\n"
          ]
        }
      ]
    },
    {
      "cell_type": "markdown",
      "source": [
        "O número de arvores, conforme cresce, começa a resultar em valores iguais.\n",
        "\n",
        "|`n_estimators`|R2_treino|R2_teste|\n",
        "|:-:|:-:|:-:|\n",
        "|10|0.95|0.77|\n",
        "|50|0.96|0.79|\n",
        "|100|0.96|0.80|\n",
        "|200|0.96|0.80|\n",
        "*`random_state` da divisão = 100*"
      ],
      "metadata": {
        "id": "UlyKr5egv0nY"
      }
    },
    {
      "cell_type": "markdown",
      "source": [
        "|`random_state`|RS_treino|RS_teste|Diferença|\n",
        "|:-:|:-:|:-:|:-:|\n",
        "|42|0.96|0.85|0.11\n",
        "|100|0.96|0.80|0.16\n",
        "|12|0.96|0.71|0.25\n",
        "|1|0.96|0.77|0.19\n",
        "|2|0.96|0.79|0.17\n",
        "|-|-|-|*Média = 0.176*|"
      ],
      "metadata": {
        "id": "-S_OeJs1xkfr"
      }
    },
    {
      "cell_type": "markdown",
      "metadata": {
        "id": "Azx3ksmzkRZG"
      },
      "source": [
        "Sumarize na tabela abaixo os resultados obtidos para os conjuntos de dados de treino e de teste"
      ]
    },
    {
      "cell_type": "markdown",
      "metadata": {
        "id": "luinu1B2kRZG"
      },
      "source": [
        "**Resposta:**\n",
        "\n",
        "| |Treino|Teste|`random_state`\n",
        "|:-:|:-:|:-:|:-:\n",
        "|Linear| 0.86 | 0.86 | 100\n",
        "|Random Forest|0.96\t| 0.85 | 42\n"
      ]
    },
    {
      "cell_type": "markdown",
      "metadata": {
        "id": "HH5d8wiNkRZH"
      },
      "source": [
        "**Pergunta:** Qual dos algoritmos obteve um resultado melhor? Justifique\n",
        "\n",
        "**Resposta:** Regressão Linear.\n",
        "\n",
        "O Random Forest me pareceu com overfitting. Todos os resultados de treino eram ótimos, porem na hora do teste eles tinham uma diferença entre 0.10 e 0.20, o que pode significar que ele decorou e não está conseguindo generalizar para predizer os resultados.\n",
        "\n",
        "Enquanto isso, o Linear não passou de 0.90. O que significa que a predição não está tão boa quanto poderia. Apesar disso, confio mais nos resultados da linear que conseguiu resultados com menos variação entre o treino e o teste. Um dos `random_state` testados obteve uma diferença de quase 0 e outros resultados com diferença de 0.03 e 0.06."
      ]
    },
    {
      "cell_type": "markdown",
      "metadata": {
        "id": "4ajUIshpkRZH"
      },
      "source": [
        "## Modelo de produção: Teste com novos dados\n",
        "\n",
        "Use seu modelo treinado para determinar: \n",
        "\n",
        "**`Quanto vale um apartamento de 72m2 com 2 quartos, 2 vagas, reformado no Centro?`**"
      ]
    },
    {
      "cell_type": "code",
      "execution_count": 791,
      "metadata": {
        "id": "ey3oc7W-kRZH"
      },
      "outputs": [],
      "source": [
        "apartamento = pd.DataFrame({'metros': [72], 'quartos': [2], 'vagas': [2], 'reformado': [1],\n",
        "                              'bairro_Assuncao': [0], 'bairro_Baeta Neves': [0], 'bairro_Centro': [1],\n",
        "                              'bairro_Demarchi': [0], 'bairro_Ferrazopolis': [0], 'bairro_Independencia': [0], \n",
        "                              'bairro_Iraja': [0], 'bairro_Jardim do Mar': [0],\n",
        "                              'bairro_Jordanopolis': [0], 'bairro_Nova Petropolis': [0],\t'bairro_Pauliceia': [0],\n",
        "                              'bairro_Piraporinha': [0], 'bairro_Planalto': [0], 'bairro_Rudge Ramos': [0],\n",
        "                              'bairro_Santa Teresinha': [0], 'bairro_Taboao': [0], 'bairro_Vila Lusitania': [0]})"
      ]
    },
    {
      "cell_type": "code",
      "source": [
        "lin_predito = lin_model.predict(apartamento)\n",
        "print(f\"Preço com LinearRegressor: {lin_predito[0]}\")\n",
        "\n",
        "rfr_predito = rfr.predict(apartamento)\n",
        "print(f\"Preço com RandomForestRegressor: {rfr_predito[0]}\")"
      ],
      "metadata": {
        "colab": {
          "base_uri": "https://localhost:8080/"
        },
        "id": "mIOICJlB4r9U",
        "outputId": "cbafcf8d-bebc-45ae-f1b4-e7dabe8debc9"
      },
      "execution_count": 793,
      "outputs": [
        {
          "output_type": "stream",
          "name": "stdout",
          "text": [
            "Preço com LinearRegressor: 394.3286699019902\n",
            "Preço com RandomForestRegressor: 370.31666666666655\n"
          ]
        }
      ]
    },
    {
      "cell_type": "markdown",
      "metadata": {
        "id": "0wQh6fgtkRZH"
      },
      "source": [
        "## 6. Conclusões finais\n",
        "\n",
        "Ufa!!... Chegamos ao final. Parabéns! De forma simplificada e completa, passamos por todas as etapas de um projeto de aprendizado de maquina. Outras etapas podem ser adicionadas no tratamento dos dados e desenvolvimento do modelo.\n"
      ]
    },
    {
      "cell_type": "markdown",
      "metadata": {
        "id": "na5lRR1UkRZI"
      },
      "source": [
        "**Pergunta:**: O modelo desenvolvido obteve um resultado satisfatório? Justifique.\n",
        "\n",
        "**Resposta**: O modelo de regressão linear obteve um resultado satisfatório, apesar de não ótimo. Ele obteve valores um pouco mais confiáveis. Observando os gráfico usados para interpretação, foi visível que existe uma linearidade nas relações dos dados de entrada com o valor, o que traz mais confiabilidade para esse modelo.\n",
        "\n",
        "Já o modelo de regressão random forest pareceu estar com overfitting, então não considero um resultado satisfatório, apesar de não ter sido de todo ruim"
      ]
    },
    {
      "cell_type": "markdown",
      "metadata": {
        "id": "YsIT25jzkRZI"
      },
      "source": [
        "**Pergunta:**: O que faria diferente para melhorar resultado obtido? Justifique:\n",
        "\n",
        "**Resposta**: A maioria dos bairros não possui imóveis o suficiente além de valores confiáveis e críveis, apenas mais incomuns, serem considerados outliers. Basicamente o dataset é muito pequeno para o que foi proposto. Talvez se desconsiderasse o bairro a máquina tivesse um aprendizado melhor mas sabemos que, na vida real, o bairro afeta o valor de um imóvel então isso não seria uma decisão inteligente."
      ]
    }
  ],
  "metadata": {
    "interpreter": {
      "hash": "916dbcbb3f70747c44a77c7bcd40155683ae19c65e1c03b4aa3499c5328201f1"
    },
    "kernelspec": {
      "display_name": "Python 3 (ipykernel)",
      "language": "python",
      "name": "python3"
    },
    "language_info": {
      "codemirror_mode": {
        "name": "ipython",
        "version": 3
      },
      "file_extension": ".py",
      "mimetype": "text/x-python",
      "name": "python",
      "nbconvert_exporter": "python",
      "pygments_lexer": "ipython3",
      "version": "3.10.2"
    },
    "colab": {
      "provenance": [],
      "collapsed_sections": [
        "fe9YT518kRY-",
        "CVjxDWlHkRZA",
        "i93uuMTokRZC"
      ]
    }
  },
  "nbformat": 4,
  "nbformat_minor": 0
}